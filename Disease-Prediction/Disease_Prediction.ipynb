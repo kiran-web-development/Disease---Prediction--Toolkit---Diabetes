{
  "nbformat": 4,
  "nbformat_minor": 0,
  "metadata": {
    "colab": {
      "provenance": []
    },
    "kernelspec": {
      "name": "python3",
      "display_name": "Python 3"
    },
    "language_info": {
      "name": "python"
    }
  },
  "cells": [
    {
      "cell_type": "markdown",
      "metadata": {
        "id": "8cfa3d9c"
      },
      "source": [
        "#  Domain: Disease Prediction\n"
      ]
    },
    {
      "cell_type": "markdown",
      "source": [
        "\n",
        "# Project Title:  Disease Prediction Toolkit: Building and Evaluating ML Models"
      ],
      "metadata": {
        "id": "I81AahGMz6cb"
      }
    },
    {
      "cell_type": "code",
      "metadata": {
        "colab": {
          "base_uri": "https://localhost:8080/"
        },
        "id": "87f9633a",
        "outputId": "ef38a5d0-ccc5-4157-ad71-8cafda378f35"
      },
      "source": [
        "# 1. Install dependencies\n",
        "!pip install pandas scikit-learn matplotlib seaborn\n",
        "\n",
        "# 2. Import libraries\n",
        "import pandas as pd\n",
        "from sklearn.model_selection import train_test_split\n",
        "from sklearn.preprocessing import StandardScaler\n",
        "from sklearn.linear_model import LogisticRegression\n",
        "from sklearn.tree import DecisionTreeClassifier\n",
        "from sklearn.ensemble import RandomForestClassifier\n",
        "from sklearn.metrics import accuracy_score, precision_score, recall_score, f1_score, roc_auc_score, confusion_matrix, roc_curve\n",
        "import matplotlib.pyplot as plt\n",
        "import seaborn as sns\n",
        "import os"
      ],
      "execution_count": null,
      "outputs": [
        {
          "output_type": "stream",
          "name": "stdout",
          "text": [
            "Requirement already satisfied: pandas in /usr/local/lib/python3.12/dist-packages (2.2.2)\n",
            "Requirement already satisfied: scikit-learn in /usr/local/lib/python3.12/dist-packages (1.6.1)\n",
            "Requirement already satisfied: matplotlib in /usr/local/lib/python3.12/dist-packages (3.10.0)\n",
            "Requirement already satisfied: seaborn in /usr/local/lib/python3.12/dist-packages (0.13.2)\n",
            "Requirement already satisfied: numpy>=1.26.0 in /usr/local/lib/python3.12/dist-packages (from pandas) (2.0.2)\n",
            "Requirement already satisfied: python-dateutil>=2.8.2 in /usr/local/lib/python3.12/dist-packages (from pandas) (2.9.0.post0)\n",
            "Requirement already satisfied: pytz>=2020.1 in /usr/local/lib/python3.12/dist-packages (from pandas) (2025.2)\n",
            "Requirement already satisfied: tzdata>=2022.7 in /usr/local/lib/python3.12/dist-packages (from pandas) (2025.2)\n",
            "Requirement already satisfied: scipy>=1.6.0 in /usr/local/lib/python3.12/dist-packages (from scikit-learn) (1.16.1)\n",
            "Requirement already satisfied: joblib>=1.2.0 in /usr/local/lib/python3.12/dist-packages (from scikit-learn) (1.5.1)\n",
            "Requirement already satisfied: threadpoolctl>=3.1.0 in /usr/local/lib/python3.12/dist-packages (from scikit-learn) (3.6.0)\n",
            "Requirement already satisfied: contourpy>=1.0.1 in /usr/local/lib/python3.12/dist-packages (from matplotlib) (1.3.3)\n",
            "Requirement already satisfied: cycler>=0.10 in /usr/local/lib/python3.12/dist-packages (from matplotlib) (0.12.1)\n",
            "Requirement already satisfied: fonttools>=4.22.0 in /usr/local/lib/python3.12/dist-packages (from matplotlib) (4.59.1)\n",
            "Requirement already satisfied: kiwisolver>=1.3.1 in /usr/local/lib/python3.12/dist-packages (from matplotlib) (1.4.9)\n",
            "Requirement already satisfied: packaging>=20.0 in /usr/local/lib/python3.12/dist-packages (from matplotlib) (25.0)\n",
            "Requirement already satisfied: pillow>=8 in /usr/local/lib/python3.12/dist-packages (from matplotlib) (11.3.0)\n",
            "Requirement already satisfied: pyparsing>=2.3.1 in /usr/local/lib/python3.12/dist-packages (from matplotlib) (3.2.3)\n",
            "Requirement already satisfied: six>=1.5 in /usr/local/lib/python3.12/dist-packages (from python-dateutil>=2.8.2->pandas) (1.17.0)\n"
          ]
        }
      ]
    },
    {
      "cell_type": "markdown",
      "metadata": {
        "id": "74872611"
      },
      "source": [
        "## Load & Preprocess Data"
      ]
    },
    {
      "cell_type": "code",
      "metadata": {
        "colab": {
          "base_uri": "https://localhost:8080/"
        },
        "id": "8c422d4d",
        "outputId": "25dee847-0246-4e8c-ddcc-741e846562ee"
      },
      "source": [
        "print(\"🔹 Loading & Preprocessing Data...\")\n",
        "\n",
        "# Upload dataset first via Colab sidebar OR replace with path\n",
        "dataset_path = \"/content/Disease-Prediction-Toolkit/data/diabetes.csv\"   # Change to \"diabetes.csv\" if using that dataset\n",
        "df = pd.read_csv(dataset_path)\n",
        "\n",
        "# Handle missing values\n",
        "df = df.dropna()\n",
        "\n",
        "# Split features/target\n",
        "target_column = \"Outcome\" # Corrected target column name\n",
        "X = df.drop(target_column, axis=1)   # \"target\" column = disease outcome\n",
        "y = df[target_column]\n",
        "\n",
        "# Train-Test Split\n",
        "X_train, X_test, y_train, y_test = train_test_split(\n",
        "    X, y, test_size=0.2, random_state=42, stratify=y\n",
        ")\n",
        "\n",
        "# Scale features\n",
        "scaler = StandardScaler()\n",
        "X_train = scaler.fit_transform(X_train)\n",
        "X_test = scaler.transform(X_test)"
      ],
      "execution_count": null,
      "outputs": [
        {
          "output_type": "stream",
          "name": "stdout",
          "text": [
            "🔹 Loading & Preprocessing Data...\n"
          ]
        }
      ]
    },
    {
      "cell_type": "markdown",
      "metadata": {
        "id": "fd20a6fb"
      },
      "source": [
        "## Train Models"
      ]
    },
    {
      "cell_type": "code",
      "metadata": {
        "colab": {
          "base_uri": "https://localhost:8080/"
        },
        "id": "5f7b075c",
        "outputId": "02338061-fb4e-4c29-a435-3ac91abee52e"
      },
      "source": [
        "print(\"🔹 Training Models...\")\n",
        "\n",
        "models = {\n",
        "    \"Logistic Regression\": LogisticRegression(max_iter=1000),\n",
        "    \"Decision Tree\": DecisionTreeClassifier(),\n",
        "    \"Random Forest\": RandomForestClassifier(n_estimators=100, random_state=42)\n",
        "}\n",
        "\n",
        "trained_models = {}\n",
        "for name, model in models.items():\n",
        "    model.fit(X_train, y_train)\n",
        "    trained_models[name] = model\n",
        "    print(f\"✅ Trained {name}\")"
      ],
      "execution_count": null,
      "outputs": [
        {
          "output_type": "stream",
          "name": "stdout",
          "text": [
            "🔹 Training Models...\n",
            "✅ Trained Logistic Regression\n",
            "✅ Trained Decision Tree\n",
            "✅ Trained Random Forest\n"
          ]
        }
      ]
    },
    {
      "cell_type": "markdown",
      "metadata": {
        "id": "0cb022e7"
      },
      "source": [
        "## Evaluate Models"
      ]
    },
    {
      "cell_type": "code",
      "metadata": {
        "colab": {
          "base_uri": "https://localhost:8080/"
        },
        "id": "753c53d0",
        "outputId": "b25df883-9440-45d5-cfbf-ea7d36deb550"
      },
      "source": [
        "\n",
        "print(\"🔹 Evaluating Models...\")\n",
        "\n",
        "results = {}\n",
        "\n",
        "# Create results directory if it doesn't exist\n",
        "results_dir = \"results\"\n",
        "os.makedirs(results_dir, exist_ok=True)\n",
        "\n",
        "# ROC Curve - combined plot\n",
        "plt.figure(figsize=(8,6)) # Increased figure size for clarity\n",
        "\n",
        "for name, model in trained_models.items():\n",
        "    y_pred = model.predict(X_test)\n",
        "    y_prob = model.predict_proba(X_test)[:, 1]\n",
        "\n",
        "    acc = accuracy_score(y_test, y_pred)\n",
        "    prec = precision_score(y_test, y_pred)\n",
        "    rec = recall_score(y_test, y_pred)\n",
        "    f1 = f1_score(y_test, y_pred)\n",
        "    roc_auc = roc_auc_score(y_test, y_prob) # Calculate AUC using probabilities\n",
        "\n",
        "    results[name] = {\"Accuracy\": acc, \"Precision\": prec, \"Recall\": rec, \"F1-score\": f1, \"ROC-AUC\": roc_auc}\n",
        "\n",
        "    # Confusion Matrix\n",
        "    cm = confusion_matrix(y_test, y_pred)\n",
        "    plt.figure(figsize=(5,4))\n",
        "    sns.heatmap(cm, annot=True, fmt='d', cmap=\"Blues\")\n",
        "    plt.title(f\"Confusion Matrix - {name}\")\n",
        "    plt.xlabel(\"Predicted\")\n",
        "    plt.ylabel(\"Actual\")\n",
        "    cm_filepath = os.path.join(results_dir, f\"{name}_confusion_matrix.png\")\n",
        "    plt.savefig(cm_filepath)\n",
        "    plt.close() # Close the figure to prevent displaying\n",
        "\n",
        "    print(f\"✅ Saved Confusion Matrix for {name} to {cm_filepath}\")\n",
        "\n",
        "    # ROC Curve data for combined plot\n",
        "    fpr, tpr, _ = roc_curve(y_test, y_prob)\n",
        "    plt.plot(fpr, tpr, label=f\"{name} (AUC={roc_auc:.2f})\")\n",
        "\n",
        "\n",
        "# Finalize and save the combined ROC Curve\n",
        "plt.plot([0,1], [0,1], 'k--')\n",
        "plt.title(\"ROC Curve\")\n",
        "plt.xlabel(\"False Positive Rate\")\n",
        "plt.ylabel(\"True Positive Rate\")\n",
        "plt.legend()\n",
        "roc_filepath = os.path.join(results_dir, \"roc_curve.png\")\n",
        "plt.savefig(roc_filepath)\n",
        "plt.close() # Close the figure to prevent displaying\n",
        "\n",
        "print(f\"✅ Saved combined ROC Curve to {roc_filepath}\")"
      ],
      "execution_count": null,
      "outputs": [
        {
          "output_type": "stream",
          "name": "stdout",
          "text": [
            "🔹 Evaluating Models...\n",
            "✅ Saved Confusion Matrix for Logistic Regression to results/Logistic Regression_confusion_matrix.png\n",
            "✅ Saved Confusion Matrix for Decision Tree to results/Decision Tree_confusion_matrix.png\n",
            "✅ Saved Confusion Matrix for Random Forest to results/Random Forest_confusion_matrix.png\n",
            "✅ Saved combined ROC Curve to results/roc_curve.png\n"
          ]
        }
      ]
    },
    {
      "cell_type": "markdown",
      "metadata": {
        "id": "44319d0b"
      },
      "source": [
        "## Print Results"
      ]
    },
    {
      "cell_type": "code",
      "metadata": {
        "colab": {
          "base_uri": "https://localhost:8080/"
        },
        "id": "eb9b64e9",
        "outputId": "a635dcfd-48c5-4324-ec3b-55078676be05"
      },
      "source": [
        "print(\"\\n📊 Final Model Results:\")\n",
        "for model, metrics in results.items():\n",
        "    print(f\"\\n{model}:\")\n",
        "    for metric, value in metrics.items():\n",
        "        print(f\"  {metric}: {value:.4f}\")"
      ],
      "execution_count": null,
      "outputs": [
        {
          "output_type": "stream",
          "name": "stdout",
          "text": [
            "\n",
            "📊 Final Model Results:\n",
            "\n",
            "Logistic Regression:\n",
            "  Accuracy: 0.7143\n",
            "  Precision: 0.6087\n",
            "  Recall: 0.5185\n",
            "  F1-score: 0.5600\n",
            "  ROC-AUC: 0.6693\n",
            "\n",
            "Decision Tree:\n",
            "  Accuracy: 0.7468\n",
            "  Precision: 0.6744\n",
            "  Recall: 0.5370\n",
            "  F1-score: 0.5979\n",
            "  ROC-AUC: 0.6985\n",
            "\n",
            "Random Forest:\n",
            "  Accuracy: 0.7597\n",
            "  Precision: 0.6809\n",
            "  Recall: 0.5926\n",
            "  F1-score: 0.6337\n",
            "  ROC-AUC: 0.7213\n"
          ]
        }
      ]
    }
  ]
}